{
 "cells": [
  {
   "cell_type": "markdown",
   "metadata": {
    "id": "FE7KNzPPVrVV"
   },
   "source": [
    "# Image classification"
   ]
  },
  {
   "cell_type": "markdown",
   "metadata": {
    "id": "zF9uvbXNVrVY"
   },
   "source": [
    "### Import TensorFlow and other libraries"
   ]
  },
  {
   "cell_type": "code",
   "execution_count": 1,
   "metadata": {
    "id": "L1WtoaOHVrVh"
   },
   "outputs": [],
   "source": [
    "import matplotlib.pyplot as plt\n",
    "import numpy as np\n",
    "import os\n",
    "import PIL\n",
    "import pathlib\n",
    "import tensorflow as tf\n",
    "from tensorflow import keras\n",
    "from tensorflow.keras import layers\n",
    "from tensorflow.keras.models import Sequential\n",
    "\n",
    "from tensorflow.keras import regularizers\n",
    "\n",
    "from tensorflow.keras.applications.vgg16 import VGG16\n",
    "from tensorflow.keras.applications.inception_v3 import InceptionV3\n",
    "\n",
    "from tensorflow.keras.preprocessing.image import ImageDataGenerator "
   ]
  },
  {
   "cell_type": "markdown",
   "metadata": {
    "id": "UZZI6lNkVrVm"
   },
   "source": [
    "### Data from Google Drive"
   ]
  },
  {
   "cell_type": "code",
   "execution_count": 2,
   "metadata": {
    "colab": {
     "base_uri": "https://localhost:8080/"
    },
    "id": "XMSyijZ9Q7gt",
    "outputId": "37427e27-98eb-4209-c282-7fb3aa849eef"
   },
   "outputs": [
    {
     "name": "stdout",
     "output_type": "stream",
     "text": [
      "Mounted at /content/drive\n"
     ]
    }
   ],
   "source": [
    "from google.colab import drive\n",
    "drive.mount('/content/drive')"
   ]
  },
  {
   "cell_type": "code",
   "execution_count": 3,
   "metadata": {
    "colab": {
     "base_uri": "https://localhost:8080/"
    },
    "id": "zrEKszg_Txmr",
    "outputId": "2972ac4e-759b-42b6-ecb4-06d366c719ee"
   },
   "outputs": [
    {
     "name": "stdout",
     "output_type": "stream",
     "text": [
      "'Colab Notebooks'\n",
      " data.zip\n",
      "'Docs 190216'\n",
      " EvP445FXAAQA7IE.jfif\n",
      "'HTML5 and CSS3 All-in-one.pdf'\n",
      "'Learning Tableau 2019 Tools for Business Intelligence, data prep, and visual analytics.pdf'\n",
      "'Tableau For Dummies - Wiley.pdf'\n"
     ]
    }
   ],
   "source": [
    "!ls \"/content/drive/My Drive\""
   ]
  },
  {
   "cell_type": "code",
   "execution_count": 4,
   "metadata": {
    "id": "3WO9VJbIUEWt"
   },
   "outputs": [],
   "source": [
    "import zipfile\n",
    "\n",
    "zipRef = zipfile.ZipFile(\"/content/drive/My Drive/data.zip\", 'r')\n",
    "zipRef.extractall(\"/data\")\n",
    "zipRef.close()"
   ]
  },
  {
   "cell_type": "code",
   "execution_count": 5,
   "metadata": {
    "id": "le52BmfTTrVJ"
   },
   "outputs": [],
   "source": [
    "dataDir = '/data/data'"
   ]
  },
  {
   "cell_type": "markdown",
   "metadata": {
    "id": "afZAdbHbOr1S"
   },
   "source": [
    "### Data Generator"
   ]
  },
  {
   "cell_type": "code",
   "execution_count": 6,
   "metadata": {
    "colab": {
     "base_uri": "https://localhost:8080/"
    },
    "id": "H74l2DoDI2XD",
    "outputId": "c3c254d9-fbd6-4452-df12-78c301eec017"
   },
   "outputs": [
    {
     "name": "stdout",
     "output_type": "stream",
     "text": [
      "Found 11517 images belonging to 4 classes.\n",
      "Found 2877 images belonging to 4 classes.\n"
     ]
    }
   ],
   "source": [
    "batchSize = 32\n",
    "imgHeight = 200\n",
    "imgWidth = 200\n",
    "\n",
    "dataGen = ImageDataGenerator(validation_split=0.2, rescale=1.0/255)\n",
    "\n",
    "trainGenerator = dataGen.flow_from_directory(dataDir, subset='training', target_size=(imgHeight, imgWidth), class_mode='sparse')\n",
    "valGenerator = dataGen.flow_from_directory(dataDir, subset='validation', target_size=(imgHeight, imgWidth), class_mode='sparse')"
   ]
  },
  {
   "cell_type": "markdown",
   "metadata": {
    "id": "CIj-doZIOr1T"
   },
   "source": [
    "### Label Names"
   ]
  },
  {
   "cell_type": "code",
   "execution_count": 7,
   "metadata": {
    "colab": {
     "base_uri": "https://localhost:8080/"
    },
    "id": "XWYPbNiEOr1T",
    "outputId": "ae41fa2d-d9b4-425a-d4ab-3af43b7003d7"
   },
   "outputs": [
    {
     "name": "stdout",
     "output_type": "stream",
     "text": [
      "{0: 'asian', 1: 'black', 2: 'indian', 3: 'white'}\n"
     ]
    }
   ],
   "source": [
    "temp = trainGenerator.class_indices\n",
    "\n",
    "labelNames = dict([(y,x) for x,y in temp.items()])\n",
    "\n",
    "print(labelNames)"
   ]
  },
  {
   "cell_type": "markdown",
   "metadata": {
    "id": "WcUTyDOPKucd"
   },
   "source": [
    "### VGG 16"
   ]
  },
  {
   "cell_type": "code",
   "execution_count": 91,
   "metadata": {
    "id": "jw-fSEt4B1Gz"
   },
   "outputs": [],
   "source": [
    "model = None\n",
    "baseModel = None"
   ]
  },
  {
   "cell_type": "code",
   "execution_count": 8,
   "metadata": {
    "colab": {
     "base_uri": "https://localhost:8080/"
    },
    "id": "QR6argA1K074",
    "outputId": "e2e04789-3e8b-4cf7-f64f-cc94ebcba46c"
   },
   "outputs": [
    {
     "name": "stdout",
     "output_type": "stream",
     "text": [
      "Downloading data from https://storage.googleapis.com/tensorflow/keras-applications/vgg16/vgg16_weights_tf_dim_ordering_tf_kernels_notop.h5\n",
      "58892288/58889256 [==============================] - 0s 0us/step\n"
     ]
    }
   ],
   "source": [
    "numClasses = 4\n",
    "\n",
    "baseModel = VGG16(input_shape=(imgHeight, imgWidth, 3), \n",
    "                  include_top=False, weights='imagenet', )\n",
    "\n",
    "baseModel.trainable = False\n",
    "\n",
    "x = layers.Flatten()(baseModel.output)\n",
    "\n",
    "x = layers.Dense(512, activation='relu', kernel_regularizer = tf.keras.regularizers.l2(l2 = 0.01))(x)\n",
    "\n",
    "x = layers.Dropout(0.5)(x)\n",
    "\n",
    "x = layers.Dense(256, activation='relu', kernel_regularizer = tf.keras.regularizers.l2(l2 = 0.01))(x)\n",
    "\n",
    "x = layers.Dropout(0.4)(x)\n",
    "\n",
    "x = layers.Dense(128, activation='relu', kernel_regularizer = tf.keras.regularizers.l2(l2 = 0.01))(x)\n",
    "\n",
    "x = layers.Dropout(0.2)(x)\n",
    "\n",
    "x = layers.Dense(numClasses, activation='sigmoid')(x)\n",
    "\n",
    "\n",
    "model = tf.keras.models.Model(baseModel.input, x)\n",
    "\n",
    "model.compile(optimizer=tf.keras.optimizers.RMSprop(learning_rate=0.00001),\n",
    "              loss=tf.keras.losses.SparseCategoricalCrossentropy(),\n",
    "              metrics=['accuracy'])"
   ]
  },
  {
   "cell_type": "markdown",
   "metadata": {
    "id": "aMJ4DnuJL55A"
   },
   "source": [
    "### Model summary"
   ]
  },
  {
   "cell_type": "code",
   "execution_count": 9,
   "metadata": {
    "colab": {
     "base_uri": "https://localhost:8080/"
    },
    "id": "llLYH-BXL7Xe",
    "outputId": "325b071b-8f96-49a7-fe51-d4dc1f5eefa1",
    "scrolled": false
   },
   "outputs": [
    {
     "name": "stdout",
     "output_type": "stream",
     "text": [
      "Model: \"model\"\n",
      "_________________________________________________________________\n",
      "Layer (type)                 Output Shape              Param #   \n",
      "=================================================================\n",
      "input_1 (InputLayer)         [(None, 200, 200, 3)]     0         \n",
      "_________________________________________________________________\n",
      "block1_conv1 (Conv2D)        (None, 200, 200, 64)      1792      \n",
      "_________________________________________________________________\n",
      "block1_conv2 (Conv2D)        (None, 200, 200, 64)      36928     \n",
      "_________________________________________________________________\n",
      "block1_pool (MaxPooling2D)   (None, 100, 100, 64)      0         \n",
      "_________________________________________________________________\n",
      "block2_conv1 (Conv2D)        (None, 100, 100, 128)     73856     \n",
      "_________________________________________________________________\n",
      "block2_conv2 (Conv2D)        (None, 100, 100, 128)     147584    \n",
      "_________________________________________________________________\n",
      "block2_pool (MaxPooling2D)   (None, 50, 50, 128)       0         \n",
      "_________________________________________________________________\n",
      "block3_conv1 (Conv2D)        (None, 50, 50, 256)       295168    \n",
      "_________________________________________________________________\n",
      "block3_conv2 (Conv2D)        (None, 50, 50, 256)       590080    \n",
      "_________________________________________________________________\n",
      "block3_conv3 (Conv2D)        (None, 50, 50, 256)       590080    \n",
      "_________________________________________________________________\n",
      "block3_pool (MaxPooling2D)   (None, 25, 25, 256)       0         \n",
      "_________________________________________________________________\n",
      "block4_conv1 (Conv2D)        (None, 25, 25, 512)       1180160   \n",
      "_________________________________________________________________\n",
      "block4_conv2 (Conv2D)        (None, 25, 25, 512)       2359808   \n",
      "_________________________________________________________________\n",
      "block4_conv3 (Conv2D)        (None, 25, 25, 512)       2359808   \n",
      "_________________________________________________________________\n",
      "block4_pool (MaxPooling2D)   (None, 12, 12, 512)       0         \n",
      "_________________________________________________________________\n",
      "block5_conv1 (Conv2D)        (None, 12, 12, 512)       2359808   \n",
      "_________________________________________________________________\n",
      "block5_conv2 (Conv2D)        (None, 12, 12, 512)       2359808   \n",
      "_________________________________________________________________\n",
      "block5_conv3 (Conv2D)        (None, 12, 12, 512)       2359808   \n",
      "_________________________________________________________________\n",
      "block5_pool (MaxPooling2D)   (None, 6, 6, 512)         0         \n",
      "_________________________________________________________________\n",
      "flatten (Flatten)            (None, 18432)             0         \n",
      "_________________________________________________________________\n",
      "dense (Dense)                (None, 512)               9437696   \n",
      "_________________________________________________________________\n",
      "dropout (Dropout)            (None, 512)               0         \n",
      "_________________________________________________________________\n",
      "dense_1 (Dense)              (None, 256)               131328    \n",
      "_________________________________________________________________\n",
      "dropout_1 (Dropout)          (None, 256)               0         \n",
      "_________________________________________________________________\n",
      "dense_2 (Dense)              (None, 128)               32896     \n",
      "_________________________________________________________________\n",
      "dropout_2 (Dropout)          (None, 128)               0         \n",
      "_________________________________________________________________\n",
      "dense_3 (Dense)              (None, 4)                 516       \n",
      "=================================================================\n",
      "Total params: 24,317,124\n",
      "Trainable params: 9,602,436\n",
      "Non-trainable params: 14,714,688\n",
      "_________________________________________________________________\n"
     ]
    }
   ],
   "source": [
    "model.summary()"
   ]
  },
  {
   "cell_type": "markdown",
   "metadata": {
    "id": "NiYHcbvaL9H-"
   },
   "source": [
    "## Train the model"
   ]
  },
  {
   "cell_type": "markdown",
   "metadata": {
    "id": "BdHB3TMgOr1V"
   },
   "source": [
    "### Flow from Dir"
   ]
  },
  {
   "cell_type": "code",
   "execution_count": 10,
   "metadata": {
    "colab": {
     "base_uri": "https://localhost:8080/"
    },
    "id": "5fWToCqYMErH",
    "outputId": "b154301a-6492-4b0a-e8ab-ae07e5f45ea1",
    "scrolled": false
   },
   "outputs": [
    {
     "name": "stdout",
     "output_type": "stream",
     "text": [
      "Epoch 1/30\n",
      "360/360 [==============================] - 114s 291ms/step - loss: 15.5541 - accuracy: 0.3329 - val_loss: 13.0073 - val_accuracy: 0.4380\n",
      "Epoch 2/30\n",
      "360/360 [==============================] - 101s 282ms/step - loss: 12.4001 - accuracy: 0.4346 - val_loss: 10.5677 - val_accuracy: 0.5335\n",
      "Epoch 3/30\n",
      "360/360 [==============================] - 101s 282ms/step - loss: 10.1763 - accuracy: 0.5039 - val_loss: 8.9259 - val_accuracy: 0.5871\n",
      "Epoch 4/30\n",
      "360/360 [==============================] - 101s 281ms/step - loss: 8.7019 - accuracy: 0.5520 - val_loss: 7.8848 - val_accuracy: 0.6406\n",
      "Epoch 5/30\n",
      "360/360 [==============================] - 101s 281ms/step - loss: 7.7843 - accuracy: 0.5956 - val_loss: 7.2253 - val_accuracy: 0.6444\n",
      "Epoch 6/30\n",
      "360/360 [==============================] - 101s 281ms/step - loss: 7.1550 - accuracy: 0.6176 - val_loss: 6.6921 - val_accuracy: 0.6663\n",
      "Epoch 7/30\n",
      "360/360 [==============================] - 101s 282ms/step - loss: 6.6413 - accuracy: 0.6447 - val_loss: 6.2697 - val_accuracy: 0.6767\n",
      "Epoch 8/30\n",
      "360/360 [==============================] - 101s 282ms/step - loss: 6.2156 - accuracy: 0.6731 - val_loss: 5.8996 - val_accuracy: 0.7000\n",
      "Epoch 9/30\n",
      "360/360 [==============================] - 101s 281ms/step - loss: 5.8392 - accuracy: 0.6965 - val_loss: 5.5728 - val_accuracy: 0.7059\n",
      "Epoch 10/30\n",
      "360/360 [==============================] - 101s 281ms/step - loss: 5.5261 - accuracy: 0.7003 - val_loss: 5.2682 - val_accuracy: 0.7192\n",
      "Epoch 11/30\n",
      "360/360 [==============================] - 101s 281ms/step - loss: 5.2369 - accuracy: 0.7113 - val_loss: 5.0036 - val_accuracy: 0.7258\n",
      "Epoch 12/30\n",
      "360/360 [==============================] - 101s 281ms/step - loss: 4.9557 - accuracy: 0.7224 - val_loss: 4.7455 - val_accuracy: 0.7376\n",
      "Epoch 13/30\n",
      "360/360 [==============================] - 101s 281ms/step - loss: 4.7095 - accuracy: 0.7425 - val_loss: 4.5318 - val_accuracy: 0.7397\n",
      "Epoch 14/30\n",
      "360/360 [==============================] - 101s 281ms/step - loss: 4.4703 - accuracy: 0.7478 - val_loss: 4.3527 - val_accuracy: 0.7299\n",
      "Epoch 15/30\n",
      "360/360 [==============================] - 101s 282ms/step - loss: 4.2549 - accuracy: 0.7553 - val_loss: 4.1543 - val_accuracy: 0.7428\n",
      "Epoch 16/30\n",
      "360/360 [==============================] - 101s 282ms/step - loss: 4.0780 - accuracy: 0.7575 - val_loss: 3.9624 - val_accuracy: 0.7487\n",
      "Epoch 17/30\n",
      "360/360 [==============================] - 101s 282ms/step - loss: 3.9005 - accuracy: 0.7716 - val_loss: 3.8269 - val_accuracy: 0.7424\n",
      "Epoch 18/30\n",
      "360/360 [==============================] - 101s 281ms/step - loss: 3.7336 - accuracy: 0.7724 - val_loss: 3.6455 - val_accuracy: 0.7567\n",
      "Epoch 19/30\n",
      "360/360 [==============================] - 101s 282ms/step - loss: 3.5632 - accuracy: 0.7893 - val_loss: 3.5331 - val_accuracy: 0.7483\n",
      "Epoch 20/30\n",
      "360/360 [==============================] - 101s 282ms/step - loss: 3.4372 - accuracy: 0.7878 - val_loss: 3.4021 - val_accuracy: 0.7508\n",
      "Epoch 21/30\n",
      "360/360 [==============================] - 101s 281ms/step - loss: 3.3048 - accuracy: 0.7930 - val_loss: 3.2684 - val_accuracy: 0.7643\n",
      "Epoch 22/30\n",
      "360/360 [==============================] - 101s 281ms/step - loss: 3.1751 - accuracy: 0.8028 - val_loss: 3.1624 - val_accuracy: 0.7647\n",
      "Epoch 23/30\n",
      "360/360 [==============================] - 101s 282ms/step - loss: 3.0626 - accuracy: 0.8073 - val_loss: 3.0606 - val_accuracy: 0.7650\n",
      "Epoch 24/30\n",
      "360/360 [==============================] - 101s 281ms/step - loss: 2.9556 - accuracy: 0.8079 - val_loss: 3.0030 - val_accuracy: 0.7577\n",
      "Epoch 25/30\n",
      "360/360 [==============================] - 101s 281ms/step - loss: 2.8644 - accuracy: 0.8059 - val_loss: 2.8984 - val_accuracy: 0.7619\n",
      "Epoch 26/30\n",
      "360/360 [==============================] - 101s 281ms/step - loss: 2.7650 - accuracy: 0.8163 - val_loss: 2.8031 - val_accuracy: 0.7650\n",
      "Epoch 27/30\n",
      "360/360 [==============================] - 101s 282ms/step - loss: 2.6510 - accuracy: 0.8261 - val_loss: 2.7512 - val_accuracy: 0.7574\n",
      "Epoch 28/30\n",
      "360/360 [==============================] - 101s 282ms/step - loss: 2.5800 - accuracy: 0.8274 - val_loss: 2.6421 - val_accuracy: 0.7716\n",
      "Epoch 29/30\n",
      "360/360 [==============================] - 101s 282ms/step - loss: 2.5051 - accuracy: 0.8307 - val_loss: 2.5727 - val_accuracy: 0.7751\n",
      "Epoch 30/30\n",
      "360/360 [==============================] - 101s 281ms/step - loss: 2.4211 - accuracy: 0.8351 - val_loss: 2.5340 - val_accuracy: 0.7633\n"
     ]
    }
   ],
   "source": [
    "epochs=30\n",
    "\n",
    "vggHistory = model.fit(\n",
    "  trainGenerator,\n",
    "  validation_data=valGenerator,\n",
    "  epochs=epochs\n",
    ")"
   ]
  },
  {
   "cell_type": "code",
   "execution_count": 11,
   "metadata": {
    "colab": {
     "base_uri": "https://localhost:8080/",
     "height": 444
    },
    "id": "Uk0UnLZOhAO1",
    "outputId": "ab72d8a2-ee85-4c30-dcbf-9aa58bbaf411"
   },
   "outputs": [
    {
     "data": {
      "image/png": "[encoded data removed]",
      "text/plain": [
       "<Figure size 1152x504 with 2 Axes>"
      ]
     },
     "metadata": {
      "needs_background": "light",
      "tags": []
     },
     "output_type": "display_data"
    }
   ],
   "source": [
    "acc = vggHistory.history['accuracy']\n",
    "valAcc = vggHistory.history['val_accuracy']\n",
    "\n",
    "loss = vggHistory.history['loss']\n",
    "valLoss = vggHistory.history['val_loss']\n",
    "\n",
    "epochsRange = range(epochs)\n",
    "\n",
    "plt.figure(figsize=(16, 7))\n",
    "plt.subplot(1, 2, 1)\n",
    "plt.plot(epochsRange, acc, label='Training Accuracy')\n",
    "plt.plot(epochsRange, valAcc, label='Validation Accuracy')\n",
    "plt.legend(loc='lower right')\n",
    "plt.title('Training and Validation Accuracy')\n",
    "\n",
    "plt.subplot(1, 2, 2)\n",
    "plt.plot(epochsRange, loss, label='Training Loss')\n",
    "plt.plot(epochsRange, valLoss, label='Validation Loss')\n",
    "plt.legend(loc='lower right')\n",
    "plt.title('Training and Validation Loss')\n",
    "plt.show()"
   ]
  },
  {
   "cell_type": "code",
   "execution_count": 12,
   "metadata": {
    "id": "M7_Tw5w5CCZ-"
   },
   "outputs": [],
   "source": [
    "baseModel.trainable = True\n",
    "\n",
    "model.compile(optimizer=tf.keras.optimizers.RMSprop(learning_rate=0.000001),\n",
    "              loss=tf.keras.losses.SparseCategoricalCrossentropy(),\n",
    "              metrics=['accuracy'])"
   ]
  },
  {
   "cell_type": "code",
   "execution_count": 13,
   "metadata": {
    "colab": {
     "base_uri": "https://localhost:8080/"
    },
    "id": "xxJ-SJ8oCUng",
    "outputId": "eb748a44-dc5e-45af-b31d-3a736906f4a2"
   },
   "outputs": [
    {
     "name": "stdout",
     "output_type": "stream",
     "text": [
      "Epoch 1/30\n",
      "360/360 [==============================] - 292s 794ms/step - loss: 2.3599 - accuracy: 0.8360 - val_loss: 2.4716 - val_accuracy: 0.7901\n",
      "Epoch 2/30\n",
      "360/360 [==============================] - 282s 782ms/step - loss: 2.2952 - accuracy: 0.8623 - val_loss: 2.4481 - val_accuracy: 0.7981\n",
      "Epoch 3/30\n",
      "360/360 [==============================] - 282s 783ms/step - loss: 2.2762 - accuracy: 0.8667 - val_loss: 2.4256 - val_accuracy: 0.8081\n",
      "Epoch 4/30\n",
      "360/360 [==============================] - 281s 782ms/step - loss: 2.2443 - accuracy: 0.8754 - val_loss: 2.4188 - val_accuracy: 0.8099\n",
      "Epoch 5/30\n",
      "360/360 [==============================] - 282s 783ms/step - loss: 2.2064 - accuracy: 0.8886 - val_loss: 2.3883 - val_accuracy: 0.8172\n",
      "Epoch 6/30\n",
      "360/360 [==============================] - 282s 782ms/step - loss: 2.1735 - accuracy: 0.9015 - val_loss: 2.3672 - val_accuracy: 0.8255\n",
      "Epoch 7/30\n",
      "360/360 [==============================] - 282s 783ms/step - loss: 2.1561 - accuracy: 0.9051 - val_loss: 2.3823 - val_accuracy: 0.8196\n",
      "Epoch 8/30\n",
      "360/360 [==============================] - 281s 781ms/step - loss: 2.1328 - accuracy: 0.9086 - val_loss: 2.3641 - val_accuracy: 0.8231\n",
      "Epoch 9/30\n",
      "360/360 [==============================] - 282s 782ms/step - loss: 2.1163 - accuracy: 0.9109 - val_loss: 2.3617 - val_accuracy: 0.8259\n",
      "Epoch 10/30\n",
      "360/360 [==============================] - 282s 782ms/step - loss: 2.1006 - accuracy: 0.9110 - val_loss: 2.3430 - val_accuracy: 0.8300\n",
      "Epoch 11/30\n",
      "360/360 [==============================] - 281s 782ms/step - loss: 2.0777 - accuracy: 0.9197 - val_loss: 2.3435 - val_accuracy: 0.8273\n",
      "Epoch 12/30\n",
      "360/360 [==============================] - 282s 782ms/step - loss: 2.0622 - accuracy: 0.9219 - val_loss: 2.3536 - val_accuracy: 0.8227\n",
      "Epoch 13/30\n",
      "360/360 [==============================] - 282s 783ms/step - loss: 2.0454 - accuracy: 0.9256 - val_loss: 2.3346 - val_accuracy: 0.8332\n",
      "Epoch 14/30\n",
      "360/360 [==============================] - 282s 783ms/step - loss: 2.0310 - accuracy: 0.9285 - val_loss: 2.4673 - val_accuracy: 0.7949\n",
      "Epoch 15/30\n",
      "360/360 [==============================] - 282s 784ms/step - loss: 2.0117 - accuracy: 0.9343 - val_loss: 2.3121 - val_accuracy: 0.8345\n",
      "Epoch 16/30\n",
      "360/360 [==============================] - 282s 783ms/step - loss: 1.9950 - accuracy: 0.9366 - val_loss: 2.3058 - val_accuracy: 0.8356\n",
      "Epoch 17/30\n",
      "360/360 [==============================] - 282s 783ms/step - loss: 1.9836 - accuracy: 0.9379 - val_loss: 2.3165 - val_accuracy: 0.8339\n",
      "Epoch 18/30\n",
      "360/360 [==============================] - 282s 783ms/step - loss: 1.9631 - accuracy: 0.9421 - val_loss: 2.3163 - val_accuracy: 0.8342\n",
      "Epoch 19/30\n",
      "360/360 [==============================] - 282s 783ms/step - loss: 1.9481 - accuracy: 0.9437 - val_loss: 2.3238 - val_accuracy: 0.8401\n",
      "Epoch 20/30\n",
      "360/360 [==============================] - 282s 783ms/step - loss: 1.9318 - accuracy: 0.9482 - val_loss: 2.2999 - val_accuracy: 0.8377\n",
      "Epoch 21/30\n",
      "360/360 [==============================] - 282s 784ms/step - loss: 1.9170 - accuracy: 0.9520 - val_loss: 2.3127 - val_accuracy: 0.8318\n",
      "Epoch 22/30\n",
      "360/360 [==============================] - 282s 783ms/step - loss: 1.9061 - accuracy: 0.9489 - val_loss: 2.3051 - val_accuracy: 0.8373\n",
      "Epoch 23/30\n",
      "360/360 [==============================] - 282s 784ms/step - loss: 1.8877 - accuracy: 0.9527 - val_loss: 2.2970 - val_accuracy: 0.8363\n",
      "Epoch 24/30\n",
      "360/360 [==============================] - 282s 784ms/step - loss: 1.8809 - accuracy: 0.9543 - val_loss: 2.2847 - val_accuracy: 0.8405\n",
      "Epoch 25/30\n",
      "360/360 [==============================] - 283s 785ms/step - loss: 1.8629 - accuracy: 0.9569 - val_loss: 2.2703 - val_accuracy: 0.8443\n",
      "Epoch 26/30\n",
      "360/360 [==============================] - 283s 785ms/step - loss: 1.8444 - accuracy: 0.9592 - val_loss: 2.2895 - val_accuracy: 0.8373\n",
      "Epoch 27/30\n",
      "360/360 [==============================] - 282s 784ms/step - loss: 1.8302 - accuracy: 0.9621 - val_loss: 2.2917 - val_accuracy: 0.8349\n",
      "Epoch 28/30\n",
      "360/360 [==============================] - 282s 783ms/step - loss: 1.8205 - accuracy: 0.9644 - val_loss: 2.2731 - val_accuracy: 0.8398\n",
      "Epoch 29/30\n",
      "360/360 [==============================] - 282s 785ms/step - loss: 1.8059 - accuracy: 0.9670 - val_loss: 2.2774 - val_accuracy: 0.8366\n",
      "Epoch 30/30\n",
      "360/360 [==============================] - 282s 785ms/step - loss: 1.7862 - accuracy: 0.9693 - val_loss: 2.2784 - val_accuracy: 0.8408\n"
     ]
    }
   ],
   "source": [
    "epochs=30\n",
    "\n",
    "vggHistory = model.fit(\n",
    "  trainGenerator,\n",
    "  validation_data=valGenerator,\n",
    "  epochs=epochs\n",
    ")"
   ]
  },
  {
   "cell_type": "code",
   "execution_count": 14,
   "metadata": {
    "colab": {
     "base_uri": "https://localhost:8080/",
     "height": 444
    },
    "id": "jWnopEChMMCn",
    "outputId": "3665383f-bb93-4fcc-f443-434e49848a70",
    "scrolled": false
   },
   "outputs": [
    {
     "data": {
      "image/png": "[encoded data removed]",
      "text/plain": [
       "<Figure size 1152x504 with 2 Axes>"
      ]
     },
     "metadata": {
      "needs_background": "light",
      "tags": []
     },
     "output_type": "display_data"
    }
   ],
   "source": [
    "acc = vggHistory.history['accuracy']\n",
    "valAcc = vggHistory.history['val_accuracy']\n",
    "\n",
    "loss = vggHistory.history['loss']\n",
    "valLoss = vggHistory.history['val_loss']\n",
    "\n",
    "epochsRange = range(epochs)\n",
    "\n",
    "plt.figure(figsize=(16, 7))\n",
    "plt.subplot(1, 2, 1)\n",
    "plt.plot(epochsRange, acc, label='Training Accuracy')\n",
    "plt.plot(epochsRange, valAcc, label='Validation Accuracy')\n",
    "plt.legend(loc='lower right')\n",
    "plt.title('Training and Validation Accuracy')\n",
    "\n",
    "plt.subplot(1, 2, 2)\n",
    "plt.plot(epochsRange, loss, label='Training Loss')\n",
    "plt.plot(epochsRange, valLoss, label='Validation Loss')\n",
    "plt.legend(loc='lower right')\n",
    "plt.title('Training and Validation Loss')\n",
    "plt.show()"
   ]
  },
  {
   "cell_type": "code",
   "execution_count": null,
   "metadata": {
    "id": "cIhnL5BUOr1W"
   },
   "outputs": [],
   "source": []
  },
  {
   "cell_type": "code",
   "execution_count": null,
   "metadata": {
    "id": "VxhdQnHlOr1W"
   },
   "outputs": [],
   "source": []
  },
  {
   "cell_type": "code",
   "execution_count": null,
   "metadata": {
    "id": "F3-h0MxsT1ym"
   },
   "outputs": [],
   "source": []
  },
  {
   "cell_type": "code",
   "execution_count": null,
   "metadata": {
    "id": "ZDuSC9ycg9eh"
   },
   "outputs": [],
   "source": []
  }
 ],
 "metadata": {
  "accelerator": "GPU",
  "colab": {
   "collapsed_sections": [],
   "name": "faceClassification_VGG.ipynb",
   "provenance": [],
   "toc_visible": true
  },
  "kernelspec": {
   "display_name": "Python 3",
   "language": "python",
   "name": "python3"
  },
  "language_info": {
   "codemirror_mode": {
    "name": "ipython",
    "version": 3
   },
   "file_extension": ".py",
   "mimetype": "text/x-python",
   "name": "python",
   "nbconvert_exporter": "python",
   "pygments_lexer": "ipython3",
   "version": "3.8.5"
  }
 },
 "nbformat": 4,
 "nbformat_minor": 1
}
